{
 "cells": [
  {
   "cell_type": "code",
   "execution_count": 12,
   "metadata": {},
   "outputs": [],
   "source": [
    "import boto3\n",
    "import aws_credentials\n",
    "import random\n",
    "import datetime\n",
    "import time\n",
    "import json"
   ]
  },
  {
   "cell_type": "code",
   "execution_count": 14,
   "metadata": {},
   "outputs": [],
   "source": [
    "#create boto3 client\n",
    "client = boto3.client('kinesis', aws_access_key_id = aws_credentials.access_key_id, aws_secret_access_key = aws_credentials.aws_secret_key, region_name = 'us-east-1')"
   ]
  },
  {
   "cell_type": "code",
   "execution_count": 55,
   "metadata": {},
   "outputs": [],
   "source": [
    "\n",
    "def hydraulic_data():\n",
    "    id = 0\n",
    "    while id <= 30:\n",
    "        sensor_reading = random.uniform(70,80)\n",
    "        reg = {'id' : str(id), 'type' : 'hydraulic pressure', 'hydraulic_pressure (bar)' : str(sensor_reading), 'timestamp' : str(datetime.datetime.now())}\n",
    "        time.sleep(10)\n",
    "        id += 1\n",
    "        send_data = client.put_record(StreamName = 'windfarm', Data = json.dumps(reg), PartitionKey = '01')"
   ]
  },
  {
   "cell_type": "code",
   "execution_count": 56,
   "metadata": {},
   "outputs": [],
   "source": [
    "\n",
    "def battery_data():\n",
    "    id = 0\n",
    "    while id <= 30:\n",
    "        sensor_reading = random.uniform(22.9,23.4)\n",
    "        reg = {'id' : str(id), 'type' : 'battery temperature', 'battery_temp' : str(sensor_reading), 'timestamp' : str(datetime.datetime.now())}\n",
    "        time.sleep(10)\n",
    "        id += 1\n",
    "        send_data = client.put_record(StreamName = 'windfarm', Data = json.dumps(reg), PartitionKey = '01')\n",
    "    "
   ]
  },
  {
   "cell_type": "code",
   "execution_count": 57,
   "metadata": {},
   "outputs": [],
   "source": [
    "def power_factor():\n",
    "    id = 0\n",
    "    while id <= 30:\n",
    "        sensor_reading = random.uniform(0.999, 1.001)\n",
    "        reg = {'id' : str(id), 'type' : 'power factor', 'power_factor' : str(sensor_reading), 'timestamp' : str(datetime.datetime.now())}\n",
    "        time.sleep(10)\n",
    "        id += 1\n",
    "        send_data = client.put_record(StreamName = 'windfarm', Data = json.dumps(reg), PartitionKey = '01')\n",
    "    "
   ]
  },
  {
   "cell_type": "code",
   "execution_count": 58,
   "metadata": {},
   "outputs": [],
   "source": [
    "hydraulic_data()\n",
    "battery_data()\n",
    "power_factor()"
   ]
  }
 ],
 "metadata": {
  "kernelspec": {
   "display_name": "Python 3",
   "language": "python",
   "name": "python3"
  },
  "language_info": {
   "codemirror_mode": {
    "name": "ipython",
    "version": 3
   },
   "file_extension": ".py",
   "mimetype": "text/x-python",
   "name": "python",
   "nbconvert_exporter": "python",
   "pygments_lexer": "ipython3",
   "version": "3.10.9"
  },
  "orig_nbformat": 4,
  "vscode": {
   "interpreter": {
    "hash": "946f3902afba8791e129f079cfc722baaaac8db525ef38315c0fd9e678d77d4b"
   }
  }
 },
 "nbformat": 4,
 "nbformat_minor": 2
}
